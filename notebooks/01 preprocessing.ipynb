{
 "cells": [
  {
   "cell_type": "markdown",
   "metadata": {},
   "source": [
    "This notebook performs initial preprocessing of three sets of data 1. Annotated data 1 (ca.1000 tweets) 2.Annotated data 2 (ca.500 tweets) 3. Non annotated data (ca.12000 tweets). Schizophrenia data is saved down in the data/dataOut/schiz/ path. The annotated data has the class label 1 removed to convert this into a binary task."
   ]
  },
  {
   "cell_type": "code",
   "execution_count": 1,
   "metadata": {},
   "outputs": [],
   "source": [
    "import pandas as pd\n",
    "import numpy as np"
   ]
  },
  {
   "cell_type": "markdown",
   "metadata": {},
   "source": [
    "# Twitter Scizhophrenia stigma"
   ]
  },
  {
   "cell_type": "code",
   "execution_count": 2,
   "metadata": {},
   "outputs": [],
   "source": [
    "'''\n",
    "import csv file and return dataframe, can\n",
    "pass column if want to return series\n",
    "'''\n",
    "def getFile(fileName, column=None):\n",
    "    socialDf = pd.read_csv(fileName, encoding='utf-8')\n",
    "    return socialDf if column==None else socialDf[column]\n",
    "\n",
    "\n",
    "'''\n",
    "clean the schizophrenia data. Remove class labels 1 to\n",
    "return convert into binary classification task. Turn \n",
    "label 2 into 1\n",
    "'''\n",
    "def cleanScizAnnTwitter(annTwitter):\n",
    "\n",
    "    print('initially', annTwitter['Classification'].value_counts())\n",
    "    annTwitter = annTwitter.dropna()\n",
    "    annTwitter = annTwitter[annTwitter['Classification']!='o']\n",
    "    annTwitter = annTwitter.astype({\"Classification\": int})\n",
    "    annTwitter = annTwitter[annTwitter['Classification']!=1]\n",
    "    \n",
    "    annTwitter = annTwitter.replace(2, 1)\n",
    "    \n",
    "    print('initially', annTwitter['Classification'].value_counts())\n",
    "    \n",
    "    \n",
    "    return annTwitter"
   ]
  },
  {
   "cell_type": "markdown",
   "metadata": {},
   "source": [
    "### Generate files for baseline model"
   ]
  },
  {
   "cell_type": "code",
   "execution_count": 11,
   "metadata": {},
   "outputs": [
    {
     "name": "stdout",
     "output_type": "stream",
     "text": [
      "951\n",
      "('initially', 0.0    445\n",
      "2.0    294\n",
      "1.0    124\n",
      "Name: Classification, dtype: int64)\n",
      "('initially', 0    445\n",
      "1    294\n",
      "Name: Classification, dtype: int64)\n",
      "739 grg\n"
     ]
    }
   ],
   "source": [
    "fileName = 'data/baseline/dataIn/annFinalSchiz_1.csv'\n",
    "socialDf = getFile(fileName)\n",
    "print len(socialDf)\n",
    "tweets = cleanScizAnnTwitter(socialDf)\n",
    "print len(tweets), 'grg'\n",
    "tweets.to_csv('data/baseline/dataOut/annSchiz1.csv', encoding='utf-8')"
   ]
  },
  {
   "cell_type": "code",
   "execution_count": 5,
   "metadata": {},
   "outputs": [
    {
     "data": {
      "text/plain": [
       "0    445\n",
       "1    294\n",
       "Name: Classification, dtype: int64"
      ]
     },
     "execution_count": 5,
     "metadata": {},
     "output_type": "execute_result"
    }
   ],
   "source": [
    "socialDf['Classification'].value_counts()\n",
    "tweets['Classification'].value_counts()"
   ]
  },
  {
   "cell_type": "code",
   "execution_count": 6,
   "metadata": {},
   "outputs": [
    {
     "name": "stdout",
     "output_type": "stream",
     "text": [
      "('initially', 0.0    167\n",
      "2.0    163\n",
      "1.0    103\n",
      "Name: Classification, dtype: int64)\n",
      "('initially', 0    167\n",
      "1    163\n",
      "Name: Classification, dtype: int64)\n"
     ]
    }
   ],
   "source": [
    "fileName = 'data/baseline/dataIn/annFinalSchiz_2.csv'\n",
    "socialDf = getFile(fileName)\n",
    "tweets = cleanScizAnnTwitter(socialDf)\n",
    "tweets.to_csv('data/baseline/dataOut/annSchiz2.csv', encoding='utf-8')"
   ]
  },
  {
   "cell_type": "markdown",
   "metadata": {},
   "source": [
    "### Generate files for Schizophrenia"
   ]
  },
  {
   "cell_type": "code",
   "execution_count": 7,
   "metadata": {},
   "outputs": [],
   "source": [
    "fileName = 'data/dataIn/schiz/nonAnnFinalSchiz.csv'\n",
    "socialDf = getFile(fileName)\n",
    "socialDf.to_csv('data/dataOut/schiz/nonAnnFinalSchiz.csv', encoding='utf-8')"
   ]
  },
  {
   "cell_type": "code",
   "execution_count": 8,
   "metadata": {},
   "outputs": [
    {
     "name": "stdout",
     "output_type": "stream",
     "text": [
      "('initially', 0.0    445\n",
      "2.0    294\n",
      "1.0    124\n",
      "Name: Classification, dtype: int64)\n",
      "('initially', 0    445\n",
      "1    294\n",
      "Name: Classification, dtype: int64)\n"
     ]
    }
   ],
   "source": [
    "fileName = 'data/dataIn/schiz/annFinalSchiz_1.csv'\n",
    "socialDf = getFile(fileName)\n",
    "tweets = cleanScizAnnTwitter(socialDf)\n",
    "tweets.to_csv('data/dataOut/schiz/annFinalSchiz_1.csv', encoding='utf-8')\n",
    "tweets['Classification'].value_counts()"
   ]
  },
  {
   "cell_type": "code",
   "execution_count": 33,
   "metadata": {},
   "outputs": [],
   "source": [
    "fileName = 'data/dataIn/schiz/annFinalSchiz_2.csv'\n",
    "socialDf = getFile(fileName)\n",
    "tweets = cleanScizAnnTwitter(socialDf)\n",
    "tweets.to_csv('data/dataOut/schiz/annFinalSchiz_2.csv', encoding='utf-8')"
   ]
  },
  {
   "cell_type": "markdown",
   "metadata": {},
   "source": [
    "### generate files for Stigma Data - Not used in final project"
   ]
  },
  {
   "cell_type": "code",
   "execution_count": 10,
   "metadata": {},
   "outputs": [],
   "source": [
    "fileName = 'data/dataIn/stigma/nonAnnFinalStig.csv'\n",
    "socialDf = getFile(fileName)\n",
    "socialDf.to_csv('data/dataOut/stigma/nonAnnFinalStig.csv', encoding='utf-8')"
   ]
  },
  {
   "cell_type": "code",
   "execution_count": 14,
   "metadata": {},
   "outputs": [
    {
     "name": "stderr",
     "output_type": "stream",
     "text": [
      "/Users/gregoryverghese/anaconda2/lib/python2.7/site-packages/ipykernel_launcher.py:5: UserWarning: Boolean Series key will be reindexed to match DataFrame index.\n",
      "  \"\"\"\n"
     ]
    }
   ],
   "source": [
    "fileName = 'data/dataIn/stigma/annFinalStig.csv'\n",
    "socialDf = getFile(fileName)\n",
    "stigTwitter = socialDf.dropna()\n",
    "stigTwitter = stigTwitter[socialDf['Classification']!='Neutral']\n",
    "stigTwitter = stigTwitter[socialDf['Classification']!='Unclear']\n",
    "stigTwitter = stigTwitter.replace('Anti-stigma', 0)\n",
    "stigTwitter = stigTwitter.replace('Stigma', 1)"
   ]
  },
  {
   "cell_type": "code",
   "execution_count": 15,
   "metadata": {},
   "outputs": [],
   "source": [
    "stigTwitter.to_csv('data/dataOut/stigma/annFinalStig.csv', encoding='utf-8')"
   ]
  }
 ],
 "metadata": {
  "kernelspec": {
   "display_name": "Python 2",
   "language": "python",
   "name": "python2"
  },
  "language_info": {
   "codemirror_mode": {
    "name": "ipython",
    "version": 2
   },
   "file_extension": ".py",
   "mimetype": "text/x-python",
   "name": "python",
   "nbconvert_exporter": "python",
   "pygments_lexer": "ipython2",
   "version": "2.7.16"
  }
 },
 "nbformat": 4,
 "nbformat_minor": 2
}
